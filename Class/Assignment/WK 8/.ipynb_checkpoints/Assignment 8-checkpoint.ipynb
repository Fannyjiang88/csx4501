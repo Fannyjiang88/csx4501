{
 "cells": [
  {
   "cell_type": "code",
   "execution_count": null,
   "id": "3b90f800",
   "metadata": {},
   "outputs": [],
   "source": [
    "#Project Assignment #2: Preliminary Project Notebook\n",
    "\n",
    "#I am an Consultant for the Westfield Tenant Administration Reporting Team. \n",
    "#I found my passion while working on the projects that were assigned to me thoughtfully and accordingly.\n",
    "#I am grateful that I was able to take care of the projects with our leadship's guidance. \n",
    "#I also discovered that one of our main files is too big for the Excel to handle. I want to be the problem solver.\n",
    "#Thanks for this Data Science class which is promising and our Professor Winjum has all the answers for my data problems.\n",
    "#As the new CFO of Westfield and the whole leadership team all have a mind set of automation, I am excited to make a new\n",
    "#way to generate our reports with SQL and Python. This way, we can avoid the limitation of the Excel capacity, and get an\n",
    "#automated data reporting.\n",
    "\n",
    "#My project will be recreating the Default Review List with Sqlite3 and Python.\n",
    "#The Sqlite3 will combine all 11 tables into one report, and the Python will show us how effective the collection efforts by\n",
    "#the analysts and how responsive the tenants are by the decreasing of the Net Past Due on the heatmap (a national view on the Map).\n",
    "#With the Leaner Regresion, it will be able to predict next month's collection, so that we can be prepared.\n",
    "#I am looking forward to completing the project. \n",
    "#For confidentiality, with Professor's considerate approval, this project will not be shared with public, such as GitHub."
   ]
  },
  {
   "cell_type": "code",
   "execution_count": 1,
   "id": "4d375677",
   "metadata": {},
   "outputs": [],
   "source": [
    "#Introduction of my data\n",
    "#1. Operation Center ID and Operation Center Description\n",
    "#2. Analyst ID and Analyst Name\n",
    "#3. LTU ID and Moditorium Status\n",
    "#4. TU ID Last Payment Date and Last Payment Date \n",
    "    (9 columns need to be eliminated)\n",
    "#5. LTU ID, Default Date and Center Notes\n",
    "#6. SUMMARY file which contains most of the columns \n",
    "    (10 columns need to be eliminated, 1 column needs to be added \"Net Past Due\")\n",
    "    #Collector_Code\tNatl_Group\tBusiness_Unit\tBU Description\tLease_Number\tTenant_Number\tTenant_Name\t\n",
    "    #Open_Amount\tCurrent\tPAST DUE\t1 - 30\t31 - 60\t61 - 90\tOver 90\tSecurity Deposit\tCollection _Status\t\n",
    "    #Prepaids\tTenant_Type\tLease Status\tMTD_Billings\tUnder 60\tOver 60\tOver 30\tLEASE-TENANT-BU\tPMT HND\n",
    "#7. LTU ID, Last Collection Comments from Analysts, Top Notes and Alarm Notes \n",
    "    (30 columns need to be eliminated, 1 column needs to be added \"LTU ID\")\n",
    "#8. Comments 1st Period (LTU ID, Collection Comments)\n",
    "    (32 columns need to be eliminated, 1 column needs to be added \"LTU ID\")\n",
    "#9. Comments 2nd Period (LTU ID, Collection Comments)\n",
    "    (32 columns need to be eliminated, 1 column needs to be added \"LTU ID\")\n",
    "#10. Comments 3rd Period (LTU ID, Collection Comments)\n",
    "    (32 columns need to be eliminated, 1 column needs to be added \"LTU ID\")"
   ]
  },
  {
   "cell_type": "code",
   "execution_count": null,
   "id": "3f36a9da",
   "metadata": {},
   "outputs": [],
   "source": []
  }
 ],
 "metadata": {
  "kernelspec": {
   "display_name": "Python 3 (ipykernel)",
   "language": "python",
   "name": "python3"
  },
  "language_info": {
   "codemirror_mode": {
    "name": "ipython",
    "version": 3
   },
   "file_extension": ".py",
   "mimetype": "text/x-python",
   "name": "python",
   "nbconvert_exporter": "python",
   "pygments_lexer": "ipython3",
   "version": "3.9.7"
  }
 },
 "nbformat": 4,
 "nbformat_minor": 5
}
